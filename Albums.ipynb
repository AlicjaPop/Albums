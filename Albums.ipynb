{
  "nbformat": 4,
  "nbformat_minor": 0,
  "metadata": {
    "colab": {
      "provenance": []
    },
    "kernelspec": {
      "name": "python3",
      "display_name": "Python 3"
    },
    "language_info": {
      "name": "python"
    }
  },
  "cells": [
    {
      "cell_type": "code",
      "execution_count": 68,
      "metadata": {
        "id": "je5xF29vM8kf"
      },
      "outputs": [],
      "source": [
        "import numpy as np\n",
        "import pandas as pd"
      ]
    },
    {
      "cell_type": "code",
      "source": [
        "data = pd.read_html('https://www.officialcharts.com/chart-news/the-best-selling-albums-of-all-time-on-the-official-uk-chart__15551/', header=0)"
      ],
      "metadata": {
        "id": "e6qpy3TBNoUe"
      },
      "execution_count": 69,
      "outputs": []
    },
    {
      "cell_type": "code",
      "source": [
        "df=data[0]"
      ],
      "metadata": {
        "id": "7NZLmH0AOFGJ"
      },
      "execution_count": 70,
      "outputs": []
    },
    {
      "cell_type": "markdown",
      "source": [
        "Zad 1"
      ],
      "metadata": {
        "id": "ZgsWf6qvnPJy"
      }
    },
    {
      "cell_type": "code",
      "source": [
        "renamed_df=df.rename(columns={\"HIGH POSN\":\"MAX POZ\", \"TITLE\":\"TYTUŁ\", \"ARTIST\":\"ARTYSTA\", \"YEAR\":\"ROK\"})\n",
        "renamed_df"
      ],
      "metadata": {
        "id": "aTIYf94dONaO"
      },
      "execution_count": null,
      "outputs": []
    },
    {
      "cell_type": "markdown",
      "source": [
        "Zad 2"
      ],
      "metadata": {
        "id": "ViYpWaHxnWZ_"
      }
    },
    {
      "cell_type": "code",
      "source": [
        "renamed_df[\"ARTYSTA\"].nunique()"
      ],
      "metadata": {
        "id": "lWo6gbCoRnCO"
      },
      "execution_count": null,
      "outputs": []
    },
    {
      "cell_type": "markdown",
      "source": [
        "Na liście jest 47 artystów"
      ],
      "metadata": {
        "id": "ccuWHR7oR-86"
      }
    },
    {
      "cell_type": "markdown",
      "source": [
        "Zad 3"
      ],
      "metadata": {
        "id": "tp9ygxSXnTHZ"
      }
    },
    {
      "cell_type": "code",
      "source": [
        "renamed_df[\"ARTYSTA\"].value_counts()"
      ],
      "metadata": {
        "id": "_OQzB82eSEzm"
      },
      "execution_count": null,
      "outputs": []
    },
    {
      "cell_type": "markdown",
      "source": [
        "Na liście najczęściej pojawiają się Coldplay i Take That"
      ],
      "metadata": {
        "id": "vw73LKZOSiik"
      }
    },
    {
      "cell_type": "markdown",
      "source": [
        "Zad 4"
      ],
      "metadata": {
        "id": "dPIeCvBenZWu"
      }
    },
    {
      "cell_type": "code",
      "source": [
        "formatted_df=renamed_df.rename(str.capitalize, axis=\"columns\")\n",
        "formatted_df"
      ],
      "metadata": {
        "id": "w0ozDZ1GSmZS"
      },
      "execution_count": null,
      "outputs": []
    },
    {
      "cell_type": "markdown",
      "source": [
        "Zad 5"
      ],
      "metadata": {
        "id": "u3348YGOndJv"
      }
    },
    {
      "cell_type": "code",
      "source": [
        "df_2=formatted_df.drop(\"Max poz\", axis=1)\n",
        "df_2"
      ],
      "metadata": {
        "id": "UrJYBvJpTS-K"
      },
      "execution_count": null,
      "outputs": []
    },
    {
      "cell_type": "markdown",
      "source": [
        "Zad 6"
      ],
      "metadata": {
        "id": "15AumNE8ngIL"
      }
    },
    {
      "cell_type": "code",
      "source": [
        "albums_per_year=df_2.groupby(pd.Grouper(key=\"Rok\")).agg({\"Artysta\":\"count\"})\n",
        "albums_per_year"
      ],
      "metadata": {
        "id": "b4yI8UniTpbS"
      },
      "execution_count": null,
      "outputs": []
    },
    {
      "cell_type": "code",
      "source": [
        "albums_per_year.sort_values(by=\"Artysta\", ascending=False)"
      ],
      "metadata": {
        "id": "P9ZqC3BDVSiz"
      },
      "execution_count": null,
      "outputs": []
    },
    {
      "cell_type": "markdown",
      "source": [
        "Najwięcej albumów wyszło w latach 1987 oraz 2000"
      ],
      "metadata": {
        "id": "hQwazaMQWNGV"
      }
    },
    {
      "cell_type": "markdown",
      "source": [
        "Zad 8"
      ],
      "metadata": {
        "id": "3I3ywkmwnz7V"
      }
    },
    {
      "cell_type": "code",
      "source": [
        "albums_per_year.sort_index()"
      ],
      "metadata": {
        "id": "VjEOi45LWSf1"
      },
      "execution_count": null,
      "outputs": []
    },
    {
      "cell_type": "markdown",
      "source": [
        "Najmłodszy album na liście został wydany w 2015 roku"
      ],
      "metadata": {
        "id": "aAiKs4BRdnaC"
      }
    },
    {
      "cell_type": "markdown",
      "source": [
        "Zadanie 7"
      ],
      "metadata": {
        "id": "LnYd3bIzn4yi"
      }
    },
    {
      "cell_type": "code",
      "source": [
        "df_filtered = df_2[(df_2['Rok'] >= 1960) & (df_2['Rok'] <= 1990)]\n",
        "df_filtered.count()"
      ],
      "metadata": {
        "id": "ZCr-hAa4iaZ_"
      },
      "execution_count": null,
      "outputs": []
    },
    {
      "cell_type": "markdown",
      "source": [
        "Na liście znajdują się 22 albumy wydane między 1960 a 1990 rokiem włącznie"
      ],
      "metadata": {
        "id": "1CzD4xkpiNsQ"
      }
    },
    {
      "cell_type": "markdown",
      "source": [
        "Zad 9"
      ],
      "metadata": {
        "id": "tTxoVCGAoEXa"
      }
    },
    {
      "cell_type": "code",
      "source": [
        "table_to_export=(formatted_df.sort_values(by=\"Rok\", ascending=False)).drop_duplicates(subset=\"Artysta\")"
      ],
      "metadata": {
        "id": "g5ruQ1B5mPnS"
      },
      "execution_count": 81,
      "outputs": []
    },
    {
      "cell_type": "markdown",
      "source": [
        "Zad 10"
      ],
      "metadata": {
        "id": "UltXeHEcorYB"
      }
    },
    {
      "cell_type": "code",
      "source": [
        "table_to_export.to_csv(\"C:/Users/user/OneDrive/Desktop/Kodilla/Albums/Exported_list.csv\", index=False)"
      ],
      "metadata": {
        "id": "VnsjNyaaouoP"
      },
      "execution_count": null,
      "outputs": []
    }
  ]
}